{
 "cells": [
  {
   "cell_type": "markdown",
   "metadata": {},
   "source": [
    "# Near matching tests\n",
    "Near matching as of 2016-07-23 (djb)"
   ]
  },
  {
   "cell_type": "markdown",
   "metadata": {},
   "source": [
    "## Analytic framework\n",
    "The witnesses start and end with perfect matches (*abcd* and *efgh*, respectively). Witness **A** has one token in the middle (*0123*) and witness **B** has two (*012x*, *01xx*) or three (*012x*, *01xx*, *0xxx*). The two or three candidates for alignment in witness **B** are all partial matches to the middle token in **A**, with different degrees of similarity. All permutations of the candidates in **B** are tested to determine whether **A** is aligned with the correct one."
   ]
  },
  {
   "cell_type": "markdown",
   "metadata": {},
   "source": [
    "## Without near matching, candidate always stays left, even if right is closer\n",
    "Not the desired output: Here *0123* in **A** is closer to *012x* (right) than to *01xx* (left), but it stays left anyway."
   ]
  },
  {
   "cell_type": "code",
   "execution_count": 63,
   "metadata": {
    "collapsed": false
   },
   "outputs": [
    {
     "name": "stdout",
     "output_type": "stream",
     "text": [
      "+---+------+------+------+------+\n",
      "| A | abcd | 0123 | -    | efgh |\n",
      "| B | abcd | 01xx | 012x | efgh |\n",
      "+---+------+------+------+------+\n"
     ]
    }
   ],
   "source": [
    "%reload_ext autoreload\n",
    "%autoreload 2\n",
    "from collatex import *\n",
    "collation = Collation()\n",
    "collation.add_plain_witness(\"A\", \"abcd 0123 efgh\")\n",
    "collation.add_plain_witness(\"B\", \"abcd 01xx 012x efgh\")\n",
    "alignment_table = collate(collation, segmentation=False)\n",
    "print(alignment_table)"
   ]
  },
  {
   "cell_type": "markdown",
   "metadata": {},
   "source": [
    "## With near matching and two choices, candidate is aligned correctly"
   ]
  },
  {
   "cell_type": "markdown",
   "metadata": {},
   "source": [
    "In the example below, *0123* in **A** is closer to *012x* (left) in **B**, and it correctly stays left."
   ]
  },
  {
   "cell_type": "code",
   "execution_count": 64,
   "metadata": {
    "collapsed": false
   },
   "outputs": [
    {
     "name": "stdout",
     "output_type": "stream",
     "text": [
      "+---+------+------+------+------+\n",
      "| A | abcd | 0123 | -    | efgh |\n",
      "| B | abcd | 012x | 01xx | efgh |\n",
      "+---+------+------+------+------+\n"
     ]
    }
   ],
   "source": [
    "# Two candidates\n",
    "# With near matching, it goes to the closer match, whether that's left or right\n",
    "# Closer match is left, no movement\n",
    "collation = Collation()\n",
    "collation.add_plain_witness(\"A\", \"abcd 0123 efgh\")\n",
    "collation.add_plain_witness(\"B\", \"abcd 012x 01xx efgh\")\n",
    "alignment_table = collate(collation, near_match=True, segmentation=False)\n",
    "print(alignment_table)"
   ]
  },
  {
   "cell_type": "markdown",
   "metadata": {},
   "source": [
    "In the example below, *0123* in **A** is closer to *012x* (right) in **B**, and it correctly moves right."
   ]
  },
  {
   "cell_type": "code",
   "execution_count": 65,
   "metadata": {
    "collapsed": false
   },
   "outputs": [
    {
     "name": "stdout",
     "output_type": "stream",
     "text": [
      "+---+------+------+------+------+\n",
      "| A | abcd | -    | 0123 | efgh |\n",
      "| B | abcd | 01xx | 012x | efgh |\n",
      "+---+------+------+------+------+\n"
     ]
    }
   ],
   "source": [
    "# Two candidates\n",
    "# With near matching, it goes to the closer match, whether that's left or right\n",
    "# Same input as above, but closer match is right, so moves\n",
    "collation = Collation()\n",
    "collation.add_plain_witness(\"A\", \"abcd 0123 efgh\")\n",
    "collation.add_plain_witness(\"B\", \"abcd 01xx 012x efgh\")\n",
    "alignment_table = collate(collation, near_match=True, segmentation=False)\n",
    "print(alignment_table)"
   ]
  },
  {
   "cell_type": "markdown",
   "metadata": {},
   "source": [
    "## With near matching and three or more choices, the alignment is correct regardless"
   ]
  },
  {
   "cell_type": "markdown",
   "metadata": {},
   "source": [
    "### If the closest match is left, the candidate correctly always stays left"
   ]
  },
  {
   "cell_type": "code",
   "execution_count": 66,
   "metadata": {
    "collapsed": false
   },
   "outputs": [
    {
     "name": "stdout",
     "output_type": "stream",
     "text": [
      "+---+------+------+------+------+------+\n",
      "| A | abcd | 0123 | -    | -    | efgh |\n",
      "| B | abcd | 012x | 01xx | 0xxx | efgh |\n",
      "+---+------+------+------+------+------+\n"
     ]
    }
   ],
   "source": [
    "# Three candidates, closest is left, match rank 0 1 2 (0 is closest)\n",
    "# Should stay left; succeeds\n",
    "collation = Collation()\n",
    "collation.add_plain_witness(\"A\", \"abcd 0123 efgh\")\n",
    "collation.add_plain_witness(\"B\", \"abcd 012x 01xx 0xxx efgh\")\n",
    "alignment_table = collate(collation, near_match=True, segmentation=False)\n",
    "print(alignment_table)"
   ]
  },
  {
   "cell_type": "code",
   "execution_count": 67,
   "metadata": {
    "collapsed": false
   },
   "outputs": [
    {
     "name": "stdout",
     "output_type": "stream",
     "text": [
      "+---+------+------+------+------+------+\n",
      "| A | abcd | 0123 | -    | -    | efgh |\n",
      "| B | abcd | 012x | 0xxx | 01xx | efgh |\n",
      "+---+------+------+------+------+------+\n"
     ]
    }
   ],
   "source": [
    "# Three candidates, closest is left, match rank 0 2 1 (0 is closest)\n",
    "# Should stay left; succeeds\n",
    "collation = Collation()\n",
    "collation.add_plain_witness(\"A\", \"abcd 0123 efgh\")\n",
    "collation.add_plain_witness(\"B\", \"abcd 012x 0xxx 01xx efgh\")\n",
    "alignment_table = collate(collation, near_match=True, segmentation=False)\n",
    "print(alignment_table)"
   ]
  },
  {
   "cell_type": "markdown",
   "metadata": {},
   "source": [
    "### If the closest match is right, the candidate correctly always moves right"
   ]
  },
  {
   "cell_type": "code",
   "execution_count": 68,
   "metadata": {
    "collapsed": false
   },
   "outputs": [
    {
     "name": "stdout",
     "output_type": "stream",
     "text": [
      "+---+------+------+------+------+------+\n",
      "| A | abcd | -    | -    | 0123 | efgh |\n",
      "| B | abcd | 01xx | 0xxx | 012x | efgh |\n",
      "+---+------+------+------+------+------+\n"
     ]
    }
   ],
   "source": [
    "# Three candidates, closest is right, match rank 1 2 0 (0 is closest)\n",
    "# Should go right; succeeds\n",
    "collation = Collation()\n",
    "collation.add_plain_witness(\"A\", \"abcd 0123 efgh\")\n",
    "collation.add_plain_witness(\"B\", \"abcd 01xx 0xxx 012x efgh\")\n",
    "alignment_table = collate(collation, near_match=True, segmentation=False)\n",
    "print(alignment_table)"
   ]
  },
  {
   "cell_type": "code",
   "execution_count": 69,
   "metadata": {
    "collapsed": false
   },
   "outputs": [
    {
     "name": "stdout",
     "output_type": "stream",
     "text": [
      "+---+------+------+------+------+------+\n",
      "| A | abcd | -    | -    | 0123 | efgh |\n",
      "| B | abcd | 0xxx | 01xx | 012x | efgh |\n",
      "+---+------+------+------+------+------+\n"
     ]
    }
   ],
   "source": [
    "# Three candidates, closest is right, match rank 2 1 0 (0 is closest)\n",
    "collation = Collation()\n",
    "collation.add_plain_witness(\"A\", \"abcd 0123 efgh\")\n",
    "collation.add_plain_witness(\"B\", \"abcd 0xxx 01xx 012x efgh\")\n",
    "alignment_table = collate(collation, near_match=True, segmentation=False)\n",
    "print(alignment_table)"
   ]
  },
  {
   "cell_type": "markdown",
   "metadata": {},
   "source": [
    "### If the closest match is in the middle, the always correctly moves to the middle"
   ]
  },
  {
   "cell_type": "code",
   "execution_count": 70,
   "metadata": {
    "collapsed": false
   },
   "outputs": [
    {
     "name": "stdout",
     "output_type": "stream",
     "text": [
      "+---+------+------+------+------+------+\n",
      "| A | abcd | -    | 0123 | -    | efgh |\n",
      "| B | abcd | 01xx | 012x | 0xxx | efgh |\n",
      "+---+------+------+------+------+------+\n"
     ]
    }
   ],
   "source": [
    "# Three candidates, closest is middle, match rank 1 0 2 (0 is closest)\n",
    "collation = Collation()\n",
    "collation.add_plain_witness(\"A\", \"abcd 0123 efgh\")\n",
    "collation.add_plain_witness(\"B\", \"abcd 01xx 012x 0xxx efgh\")\n",
    "alignment_table = collate(collation, near_match=True, segmentation=False)\n",
    "print(alignment_table)"
   ]
  },
  {
   "cell_type": "code",
   "execution_count": 71,
   "metadata": {
    "collapsed": false
   },
   "outputs": [
    {
     "name": "stdout",
     "output_type": "stream",
     "text": [
      "+---+------+------+------+------+------+\n",
      "| A | abcd | -    | 0123 | -    | efgh |\n",
      "| B | abcd | 0xxx | 012x | 01xx | efgh |\n",
      "+---+------+------+------+------+------+\n"
     ]
    }
   ],
   "source": [
    "# Three candidates, closest is middle, match rank 2 0 1 (0 is closest)\n",
    "collation = Collation()\n",
    "collation.add_plain_witness(\"A\", \"abcd 0123 efgh\")\n",
    "collation.add_plain_witness(\"B\", \"abcd 0xxx 012x 01xx efgh\")\n",
    "alignment_table = collate(collation, near_match=True, segmentation=False)\n",
    "print(alignment_table)"
   ]
  },
  {
   "cell_type": "markdown",
   "metadata": {},
   "source": [
    "## Three witnesses, two of which have gaps\n",
    "We expect:\n",
    "\n",
    "    +---+------+--------+--------+--------+--------+--------+------+\n",
    "    | A | abcd | -      | -      | 012345 | -      |        | efgh |\n",
    "    | B | abcd | 0xxxxx | 01xxxx | 01234x | 012xxx | 0123xx | efgh |\n",
    "    | C | abcd | -      | 01xxxx | -      | -      | zz23xx | efgh |\n",
    "    +---+------+--------+--------+--------+--------+--------+------+"
   ]
  },
  {
   "cell_type": "code",
   "execution_count": 72,
   "metadata": {
    "collapsed": false
   },
   "outputs": [
    {
     "name": "stdout",
     "output_type": "stream",
     "text": [
      "+---+------+--------+--------+--------+--------+--------+------+\n",
      "| A | abcd | -      | -      | 012345 | -      | -      | efgh |\n",
      "| B | abcd | 0xxxxx | 01xxxx | 01234x | 012xxx | 0123xx | efgh |\n",
      "| C | abcd | -      | 01xxxx | -      | -      | zz23xx | efgh |\n",
      "+---+------+--------+--------+--------+--------+--------+------+\n"
     ]
    }
   ],
   "source": [
    "%reload_ext autoreload\n",
    "%autoreload 2\n",
    "from collatex import *\n",
    "collation = Collation()\n",
    "collation.add_plain_witness(\"A\", \"abcd 012345 efgh\")\n",
    "collation.add_plain_witness(\"B\", \"abcd 0xxxxx 01xxxx 01234x 012xxx 0123xx efgh\")\n",
    "collation.add_plain_witness(\"C\", \"abcd 01xxxx zz23xx efgh\")\n",
    "alignment_table = collate(collation, segmentation=False, near_match=True)\n",
    "print(alignment_table)"
   ]
  }
 ],
 "metadata": {
  "anaconda-cloud": {},
  "kernelspec": {
   "display_name": "Python [Root]",
   "language": "python",
   "name": "Python [Root]"
  },
  "language_info": {
   "codemirror_mode": {
    "name": "ipython",
    "version": 3
   },
   "file_extension": ".py",
   "mimetype": "text/x-python",
   "name": "python",
   "nbconvert_exporter": "python",
   "pygments_lexer": "ipython3",
   "version": "3.5.2"
  }
 },
 "nbformat": 4,
 "nbformat_minor": 0
}
